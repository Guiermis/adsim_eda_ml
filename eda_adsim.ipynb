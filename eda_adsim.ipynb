{
 "cells": [
  {
   "cell_type": "markdown",
   "metadata": {},
   "source": [
    "# Bloco de imports, e criação da engine do sqlalchemy:"
   ]
  },
  {
   "cell_type": "code",
   "execution_count": 1,
   "metadata": {},
   "outputs": [],
   "source": [
    "import requests as r\n",
    "import json\n",
    "import pandas as pd\n",
    "from datetime import datetime, timedelta, timezone, date\n",
    "import numpy as np\n",
    "import pandas as pd\n",
    "import numpy as np\n",
    "import psycopg2\n",
    "import time\n",
    "import os\n",
    "import threading\n",
    "import subprocess\n",
    "import logging\n",
    "import traceback\n",
    "import smtplib\n",
    "import gspread\n",
    "from sqlalchemy import create_engine, text\n",
    "from google.oauth2 import service_account\n",
    "from openpyxl import load_workbook\n",
    "from concurrent.futures import ThreadPoolExecutor\n",
    "from pathlib import Path\n",
    "from email.mime.text import MIMEText\n",
    "from email.mime.multipart import MIMEMultipart\n",
    "from adsim_config import adsim_token, host, port, dbname, user, password\n",
    "from sklearn.tree import DecisionTreeRegressor\n",
    "from sklearn.model_selection import train_test_split\n",
    "\n",
    "engine = create_engine(f\"postgresql://{user}:{password}@{host}:{port}/{dbname}\")"
   ]
  },
  {
   "cell_type": "markdown",
   "metadata": {},
   "source": [
    "# Análise de Tempo de Fechamento de negócios no CRM, uma análise descritiva."
   ]
  },
  {
   "cell_type": "code",
   "execution_count": 2,
   "metadata": {},
   "outputs": [
    {
     "data": {
      "application/vnd.microsoft.datawrangler.viewer.v0+json": {
       "columns": [
        {
         "name": "index",
         "rawType": "int64",
         "type": "integer"
        },
        {
         "name": "main_id",
         "rawType": "int64",
         "type": "integer"
        },
        {
         "name": "pipeline_id",
         "rawType": "int64",
         "type": "integer"
        },
        {
         "name": "creatoruser_id",
         "rawType": "int64",
         "type": "integer"
        },
        {
         "name": "responsible_id",
         "rawType": "int64",
         "type": "integer"
        },
        {
         "name": "pipelinestep_id",
         "rawType": "int64",
         "type": "integer"
        },
        {
         "name": "organization_id",
         "rawType": "float64",
         "type": "float"
        },
        {
         "name": "product_id",
         "rawType": "float64",
         "type": "float"
        },
        {
         "name": "dealtype_id",
         "rawType": "float64",
         "type": "float"
        },
        {
         "name": "person_id",
         "rawType": "float64",
         "type": "float"
        },
        {
         "name": "agencies_id",
         "rawType": "float64",
         "type": "float"
        },
        {
         "name": "iswon",
         "rawType": "bool",
         "type": "boolean"
        },
        {
         "name": "islost",
         "rawType": "bool",
         "type": "boolean"
        },
        {
         "name": "enddate",
         "rawType": "object",
         "type": "unknown"
        },
        {
         "name": "windate",
         "rawType": "datetime64[ns]",
         "type": "datetime"
        },
        {
         "name": "losedate",
         "rawType": "datetime64[ns]",
         "type": "datetime"
        },
        {
         "name": "netvalue",
         "rawType": "float64",
         "type": "float"
        },
        {
         "name": "isdeleted",
         "rawType": "bool",
         "type": "boolean"
        },
        {
         "name": "ispending",
         "rawType": "bool",
         "type": "boolean"
        },
        {
         "name": "startdate",
         "rawType": "object",
         "type": "unknown"
        },
        {
         "name": "shelvedate",
         "rawType": "object",
         "type": "unknown"
        },
        {
         "name": "description",
         "rawType": "object",
         "type": "string"
        },
        {
         "name": "approvaldate",
         "rawType": "object",
         "type": "unknown"
        },
        {
         "name": "registerdate",
         "rawType": "datetime64[ns]",
         "type": "datetime"
        },
        {
         "name": "sequenceorder",
         "rawType": "int64",
         "type": "integer"
        },
        {
         "name": "conclusiondate",
         "rawType": "object",
         "type": "unknown"
        },
        {
         "name": "conversiondate",
         "rawType": "object",
         "type": "unknown"
        },
        {
         "name": "lastupdatedate",
         "rawType": "datetime64[ns]",
         "type": "datetime"
        },
        {
         "name": "negotiatedvalue",
         "rawType": "float64",
         "type": "float"
        },
        {
         "name": "productquantity",
         "rawType": "int64",
         "type": "integer"
        },
        {
         "name": "forecastsalesdate",
         "rawType": "object",
         "type": "unknown"
        },
        {
         "name": "isadvancedproduct",
         "rawType": "bool",
         "type": "boolean"
        },
        {
         "name": "activitiesquantity",
         "rawType": "int64",
         "type": "integer"
        },
        {
         "name": "hasproductswithquotas",
         "rawType": "bool",
         "type": "boolean"
        },
        {
         "name": "agencycommissionpercentage",
         "rawType": "int64",
         "type": "integer"
        },
        {
         "name": "company_id",
         "rawType": "float64",
         "type": "float"
        }
       ],
       "conversionMethod": "pd.DataFrame",
       "ref": "7333be82-7935-4448-89bc-b77e8bed1dc6",
       "rows": [
        [
         "0",
         "1320951",
         "1077",
         "23189",
         "17266",
         "6018",
         "914251.0",
         "25546.0",
         "229.0",
         null,
         "1127005.0",
         "True",
         "False",
         "2025-01-11",
         "2025-01-10 16:08:06",
         null,
         "2469.0",
         "False",
         "False",
         "2025-01-11",
         null,
         "TOKO FRIOS - BREAK",
         null,
         "2025-01-10 15:01:45",
         "580",
         "2025-01-10",
         null,
         "2025-01-10 16:08:06",
         "2469.0",
         "1",
         null,
         "False",
         "0",
         "False",
         "0",
         "367.0"
        ],
        [
         "1",
         "1320648",
         "1077",
         "23189",
         "24253",
         "6804",
         "916856.0",
         "29826.0",
         "229.0",
         "1134398.0",
         null,
         "False",
         "False",
         "2025-01-10",
         null,
         null,
         "18000.0",
         "False",
         "False",
         "2025-01-10",
         null,
         "6 Peruinhas Atacadão - Janeiro - Novo Faturamento",
         null,
         "2025-01-09 16:30:36",
         "526",
         "2025-01-06",
         null,
         "2025-01-13 10:39:39",
         "18000.0",
         "1",
         null,
         "False",
         "0",
         "False",
         "0",
         "367.0"
        ],
        [
         "2",
         "1320590",
         "1077",
         "22676",
         "22676",
         "6018",
         "1100087.0",
         null,
         "230.0",
         "1100088.0",
         "1137329.0",
         "True",
         "False",
         "2025-07-30",
         "2025-01-22 11:56:04",
         null,
         "54314.82",
         "False",
         "False",
         "2025-02-06",
         null,
         "",
         null,
         "2025-01-09 15:12:28",
         "568",
         "2025-01-31",
         null,
         "2025-01-22 11:56:03",
         "54314.82",
         "2",
         null,
         "False",
         "0",
         "False",
         "0",
         "367.0"
        ],
        [
         "3",
         "1320521",
         "1077",
         "22933",
         "22933",
         "6018",
         "1135084.0",
         null,
         "229.0",
         "1135088.0",
         null,
         "True",
         "False",
         "2025-07-31",
         "2025-02-06 14:36:03",
         null,
         "12000.0",
         "False",
         "False",
         "2025-01-15",
         null,
         "Proposta Eletroluz 6 meses - JP PG",
         null,
         "2025-01-09 11:18:09",
         "563",
         "2025-01-21",
         null,
         "2025-02-06 14:36:02",
         "12000.0",
         "1",
         null,
         "False",
         "0",
         "False",
         "0",
         "367.0"
        ],
        [
         "4",
         "1344529",
         "1077",
         "17295",
         "17295",
         "6805",
         "914447.0",
         "35720.0",
         "229.0",
         null,
         null,
         "False",
         "True",
         "2025-03-30",
         null,
         "2025-03-31 14:51:12",
         "63861.73",
         "False",
         "False",
         "2025-03-13",
         null,
         "BONI CHEF MEDICOS",
         null,
         "2025-03-13 11:24:36",
         "1416",
         "2025-03-20",
         null,
         "2025-03-31 14:51:12",
         "63861.73",
         "1",
         null,
         "False",
         "0",
         "False",
         "0",
         "367.0"
        ]
       ],
       "shape": {
        "columns": 35,
        "rows": 5
       }
      },
      "text/html": [
       "<div>\n",
       "<style scoped>\n",
       "    .dataframe tbody tr th:only-of-type {\n",
       "        vertical-align: middle;\n",
       "    }\n",
       "\n",
       "    .dataframe tbody tr th {\n",
       "        vertical-align: top;\n",
       "    }\n",
       "\n",
       "    .dataframe thead th {\n",
       "        text-align: right;\n",
       "    }\n",
       "</style>\n",
       "<table border=\"1\" class=\"dataframe\">\n",
       "  <thead>\n",
       "    <tr style=\"text-align: right;\">\n",
       "      <th></th>\n",
       "      <th>main_id</th>\n",
       "      <th>pipeline_id</th>\n",
       "      <th>creatoruser_id</th>\n",
       "      <th>responsible_id</th>\n",
       "      <th>pipelinestep_id</th>\n",
       "      <th>organization_id</th>\n",
       "      <th>product_id</th>\n",
       "      <th>dealtype_id</th>\n",
       "      <th>person_id</th>\n",
       "      <th>agencies_id</th>\n",
       "      <th>...</th>\n",
       "      <th>conversiondate</th>\n",
       "      <th>lastupdatedate</th>\n",
       "      <th>negotiatedvalue</th>\n",
       "      <th>productquantity</th>\n",
       "      <th>forecastsalesdate</th>\n",
       "      <th>isadvancedproduct</th>\n",
       "      <th>activitiesquantity</th>\n",
       "      <th>hasproductswithquotas</th>\n",
       "      <th>agencycommissionpercentage</th>\n",
       "      <th>company_id</th>\n",
       "    </tr>\n",
       "  </thead>\n",
       "  <tbody>\n",
       "    <tr>\n",
       "      <th>0</th>\n",
       "      <td>1320951</td>\n",
       "      <td>1077</td>\n",
       "      <td>23189</td>\n",
       "      <td>17266</td>\n",
       "      <td>6018</td>\n",
       "      <td>914251.0</td>\n",
       "      <td>25546.0</td>\n",
       "      <td>229.0</td>\n",
       "      <td>NaN</td>\n",
       "      <td>1127005.0</td>\n",
       "      <td>...</td>\n",
       "      <td>None</td>\n",
       "      <td>2025-01-10 16:08:06</td>\n",
       "      <td>2469.00</td>\n",
       "      <td>1</td>\n",
       "      <td>None</td>\n",
       "      <td>False</td>\n",
       "      <td>0</td>\n",
       "      <td>False</td>\n",
       "      <td>0</td>\n",
       "      <td>367.0</td>\n",
       "    </tr>\n",
       "    <tr>\n",
       "      <th>1</th>\n",
       "      <td>1320648</td>\n",
       "      <td>1077</td>\n",
       "      <td>23189</td>\n",
       "      <td>24253</td>\n",
       "      <td>6804</td>\n",
       "      <td>916856.0</td>\n",
       "      <td>29826.0</td>\n",
       "      <td>229.0</td>\n",
       "      <td>1134398.0</td>\n",
       "      <td>NaN</td>\n",
       "      <td>...</td>\n",
       "      <td>None</td>\n",
       "      <td>2025-01-13 10:39:39</td>\n",
       "      <td>18000.00</td>\n",
       "      <td>1</td>\n",
       "      <td>None</td>\n",
       "      <td>False</td>\n",
       "      <td>0</td>\n",
       "      <td>False</td>\n",
       "      <td>0</td>\n",
       "      <td>367.0</td>\n",
       "    </tr>\n",
       "    <tr>\n",
       "      <th>2</th>\n",
       "      <td>1320590</td>\n",
       "      <td>1077</td>\n",
       "      <td>22676</td>\n",
       "      <td>22676</td>\n",
       "      <td>6018</td>\n",
       "      <td>1100087.0</td>\n",
       "      <td>NaN</td>\n",
       "      <td>230.0</td>\n",
       "      <td>1100088.0</td>\n",
       "      <td>1137329.0</td>\n",
       "      <td>...</td>\n",
       "      <td>None</td>\n",
       "      <td>2025-01-22 11:56:03</td>\n",
       "      <td>54314.82</td>\n",
       "      <td>2</td>\n",
       "      <td>None</td>\n",
       "      <td>False</td>\n",
       "      <td>0</td>\n",
       "      <td>False</td>\n",
       "      <td>0</td>\n",
       "      <td>367.0</td>\n",
       "    </tr>\n",
       "    <tr>\n",
       "      <th>3</th>\n",
       "      <td>1320521</td>\n",
       "      <td>1077</td>\n",
       "      <td>22933</td>\n",
       "      <td>22933</td>\n",
       "      <td>6018</td>\n",
       "      <td>1135084.0</td>\n",
       "      <td>NaN</td>\n",
       "      <td>229.0</td>\n",
       "      <td>1135088.0</td>\n",
       "      <td>NaN</td>\n",
       "      <td>...</td>\n",
       "      <td>None</td>\n",
       "      <td>2025-02-06 14:36:02</td>\n",
       "      <td>12000.00</td>\n",
       "      <td>1</td>\n",
       "      <td>None</td>\n",
       "      <td>False</td>\n",
       "      <td>0</td>\n",
       "      <td>False</td>\n",
       "      <td>0</td>\n",
       "      <td>367.0</td>\n",
       "    </tr>\n",
       "    <tr>\n",
       "      <th>4</th>\n",
       "      <td>1344529</td>\n",
       "      <td>1077</td>\n",
       "      <td>17295</td>\n",
       "      <td>17295</td>\n",
       "      <td>6805</td>\n",
       "      <td>914447.0</td>\n",
       "      <td>35720.0</td>\n",
       "      <td>229.0</td>\n",
       "      <td>NaN</td>\n",
       "      <td>NaN</td>\n",
       "      <td>...</td>\n",
       "      <td>None</td>\n",
       "      <td>2025-03-31 14:51:12</td>\n",
       "      <td>63861.73</td>\n",
       "      <td>1</td>\n",
       "      <td>None</td>\n",
       "      <td>False</td>\n",
       "      <td>0</td>\n",
       "      <td>False</td>\n",
       "      <td>0</td>\n",
       "      <td>367.0</td>\n",
       "    </tr>\n",
       "  </tbody>\n",
       "</table>\n",
       "<p>5 rows × 35 columns</p>\n",
       "</div>"
      ],
      "text/plain": [
       "   main_id  pipeline_id  creatoruser_id  responsible_id  pipelinestep_id  \\\n",
       "0  1320951         1077           23189           17266             6018   \n",
       "1  1320648         1077           23189           24253             6804   \n",
       "2  1320590         1077           22676           22676             6018   \n",
       "3  1320521         1077           22933           22933             6018   \n",
       "4  1344529         1077           17295           17295             6805   \n",
       "\n",
       "   organization_id  product_id  dealtype_id  person_id  agencies_id  ...  \\\n",
       "0         914251.0     25546.0        229.0        NaN    1127005.0  ...   \n",
       "1         916856.0     29826.0        229.0  1134398.0          NaN  ...   \n",
       "2        1100087.0         NaN        230.0  1100088.0    1137329.0  ...   \n",
       "3        1135084.0         NaN        229.0  1135088.0          NaN  ...   \n",
       "4         914447.0     35720.0        229.0        NaN          NaN  ...   \n",
       "\n",
       "   conversiondate      lastupdatedate negotiatedvalue productquantity  \\\n",
       "0            None 2025-01-10 16:08:06         2469.00               1   \n",
       "1            None 2025-01-13 10:39:39        18000.00               1   \n",
       "2            None 2025-01-22 11:56:03        54314.82               2   \n",
       "3            None 2025-02-06 14:36:02        12000.00               1   \n",
       "4            None 2025-03-31 14:51:12        63861.73               1   \n",
       "\n",
       "  forecastsalesdate  isadvancedproduct  activitiesquantity  \\\n",
       "0              None              False                   0   \n",
       "1              None              False                   0   \n",
       "2              None              False                   0   \n",
       "3              None              False                   0   \n",
       "4              None              False                   0   \n",
       "\n",
       "   hasproductswithquotas agencycommissionpercentage company_id  \n",
       "0                  False                          0      367.0  \n",
       "1                  False                          0      367.0  \n",
       "2                  False                          0      367.0  \n",
       "3                  False                          0      367.0  \n",
       "4                  False                          0      367.0  \n",
       "\n",
       "[5 rows x 35 columns]"
      ]
     },
     "execution_count": 2,
     "metadata": {},
     "output_type": "execute_result"
    }
   ],
   "source": [
    "deals = pd.read_sql_query(\"SELECT * FROM deals\", engine)\n",
    "\n",
    "deals.head()"
   ]
  },
  {
   "cell_type": "code",
   "execution_count": 3,
   "metadata": {},
   "outputs": [
    {
     "data": {
      "application/vnd.microsoft.datawrangler.viewer.v0+json": {
       "columns": [
        {
         "name": "index",
         "rawType": "int64",
         "type": "integer"
        },
        {
         "name": "main_id",
         "rawType": "int64",
         "type": "integer"
        },
        {
         "name": "pipeline_id",
         "rawType": "int64",
         "type": "integer"
        },
        {
         "name": "creatoruser_id",
         "rawType": "int64",
         "type": "integer"
        },
        {
         "name": "responsible_id",
         "rawType": "int64",
         "type": "integer"
        },
        {
         "name": "pipelinestep_id",
         "rawType": "int64",
         "type": "integer"
        },
        {
         "name": "organization_id",
         "rawType": "float64",
         "type": "float"
        },
        {
         "name": "product_id",
         "rawType": "float64",
         "type": "float"
        },
        {
         "name": "dealtype_id",
         "rawType": "float64",
         "type": "float"
        },
        {
         "name": "person_id",
         "rawType": "float64",
         "type": "float"
        },
        {
         "name": "agencies_id",
         "rawType": "float64",
         "type": "float"
        },
        {
         "name": "iswon",
         "rawType": "bool",
         "type": "boolean"
        },
        {
         "name": "islost",
         "rawType": "bool",
         "type": "boolean"
        },
        {
         "name": "enddate",
         "rawType": "object",
         "type": "unknown"
        },
        {
         "name": "windate",
         "rawType": "datetime64[ns]",
         "type": "datetime"
        },
        {
         "name": "losedate",
         "rawType": "datetime64[ns]",
         "type": "datetime"
        },
        {
         "name": "netvalue",
         "rawType": "float64",
         "type": "float"
        },
        {
         "name": "isdeleted",
         "rawType": "bool",
         "type": "boolean"
        },
        {
         "name": "ispending",
         "rawType": "bool",
         "type": "boolean"
        },
        {
         "name": "startdate",
         "rawType": "object",
         "type": "unknown"
        },
        {
         "name": "shelvedate",
         "rawType": "object",
         "type": "unknown"
        },
        {
         "name": "description",
         "rawType": "object",
         "type": "string"
        },
        {
         "name": "approvaldate",
         "rawType": "object",
         "type": "unknown"
        },
        {
         "name": "registerdate",
         "rawType": "datetime64[ns]",
         "type": "datetime"
        },
        {
         "name": "sequenceorder",
         "rawType": "int64",
         "type": "integer"
        },
        {
         "name": "conclusiondate",
         "rawType": "object",
         "type": "unknown"
        },
        {
         "name": "conversiondate",
         "rawType": "object",
         "type": "unknown"
        },
        {
         "name": "lastupdatedate",
         "rawType": "datetime64[ns]",
         "type": "datetime"
        },
        {
         "name": "negotiatedvalue",
         "rawType": "float64",
         "type": "float"
        },
        {
         "name": "productquantity",
         "rawType": "int64",
         "type": "integer"
        },
        {
         "name": "forecastsalesdate",
         "rawType": "object",
         "type": "unknown"
        },
        {
         "name": "isadvancedproduct",
         "rawType": "bool",
         "type": "boolean"
        },
        {
         "name": "activitiesquantity",
         "rawType": "int64",
         "type": "integer"
        },
        {
         "name": "hasproductswithquotas",
         "rawType": "bool",
         "type": "boolean"
        },
        {
         "name": "agencycommissionpercentage",
         "rawType": "int64",
         "type": "integer"
        },
        {
         "name": "company_id",
         "rawType": "float64",
         "type": "float"
        }
       ],
       "conversionMethod": "pd.DataFrame",
       "ref": "ce9e0f6c-76e4-4e0f-b594-7c86148f1317",
       "rows": [
        [
         "0",
         "1320951",
         "1077",
         "23189",
         "17266",
         "6018",
         "914251.0",
         "25546.0",
         "229.0",
         null,
         "1127005.0",
         "True",
         "False",
         "2025-01-11",
         "2025-01-10 16:08:06",
         null,
         "2469.0",
         "False",
         "False",
         "2025-01-11",
         null,
         "TOKO FRIOS - BREAK",
         null,
         "2025-01-10 15:01:45",
         "580",
         "2025-01-10",
         null,
         "2025-01-10 16:08:06",
         "2469.0",
         "1",
         null,
         "False",
         "0",
         "False",
         "0",
         "367.0"
        ],
        [
         "1",
         "1320648",
         "1077",
         "23189",
         "24253",
         "6804",
         "916856.0",
         "29826.0",
         "229.0",
         "1134398.0",
         null,
         "False",
         "False",
         "2025-01-10",
         null,
         null,
         "18000.0",
         "False",
         "False",
         "2025-01-10",
         null,
         "6 Peruinhas Atacadão - Janeiro - Novo Faturamento",
         null,
         "2025-01-09 16:30:36",
         "526",
         "2025-01-06",
         null,
         "2025-01-13 10:39:39",
         "18000.0",
         "1",
         null,
         "False",
         "0",
         "False",
         "0",
         "367.0"
        ],
        [
         "2",
         "1320590",
         "1077",
         "22676",
         "22676",
         "6018",
         "1100087.0",
         null,
         "230.0",
         "1100088.0",
         "1137329.0",
         "True",
         "False",
         "2025-07-30",
         "2025-01-22 11:56:04",
         null,
         "54314.82",
         "False",
         "False",
         "2025-02-06",
         null,
         "",
         null,
         "2025-01-09 15:12:28",
         "568",
         "2025-01-31",
         null,
         "2025-01-22 11:56:03",
         "54314.82",
         "2",
         null,
         "False",
         "0",
         "False",
         "0",
         "367.0"
        ],
        [
         "3",
         "1320521",
         "1077",
         "22933",
         "22933",
         "6018",
         "1135084.0",
         null,
         "229.0",
         "1135088.0",
         null,
         "True",
         "False",
         "2025-07-31",
         "2025-02-06 14:36:03",
         null,
         "12000.0",
         "False",
         "False",
         "2025-01-15",
         null,
         "Proposta Eletroluz 6 meses - JP PG",
         null,
         "2025-01-09 11:18:09",
         "563",
         "2025-01-21",
         null,
         "2025-02-06 14:36:02",
         "12000.0",
         "1",
         null,
         "False",
         "0",
         "False",
         "0",
         "367.0"
        ],
        [
         "4",
         "1344529",
         "1077",
         "17295",
         "17295",
         "6805",
         "914447.0",
         "35720.0",
         "229.0",
         null,
         null,
         "False",
         "True",
         "2025-03-30",
         null,
         "2025-03-31 14:51:12",
         "63861.73",
         "False",
         "False",
         "2025-03-13",
         null,
         "BONI CHEF MEDICOS",
         null,
         "2025-03-13 11:24:36",
         "1416",
         "2025-03-20",
         null,
         "2025-03-31 14:51:12",
         "63861.73",
         "1",
         null,
         "False",
         "0",
         "False",
         "0",
         "367.0"
        ]
       ],
       "shape": {
        "columns": 35,
        "rows": 5
       }
      },
      "text/html": [
       "<div>\n",
       "<style scoped>\n",
       "    .dataframe tbody tr th:only-of-type {\n",
       "        vertical-align: middle;\n",
       "    }\n",
       "\n",
       "    .dataframe tbody tr th {\n",
       "        vertical-align: top;\n",
       "    }\n",
       "\n",
       "    .dataframe thead th {\n",
       "        text-align: right;\n",
       "    }\n",
       "</style>\n",
       "<table border=\"1\" class=\"dataframe\">\n",
       "  <thead>\n",
       "    <tr style=\"text-align: right;\">\n",
       "      <th></th>\n",
       "      <th>main_id</th>\n",
       "      <th>pipeline_id</th>\n",
       "      <th>creatoruser_id</th>\n",
       "      <th>responsible_id</th>\n",
       "      <th>pipelinestep_id</th>\n",
       "      <th>organization_id</th>\n",
       "      <th>product_id</th>\n",
       "      <th>dealtype_id</th>\n",
       "      <th>person_id</th>\n",
       "      <th>agencies_id</th>\n",
       "      <th>...</th>\n",
       "      <th>conversiondate</th>\n",
       "      <th>lastupdatedate</th>\n",
       "      <th>negotiatedvalue</th>\n",
       "      <th>productquantity</th>\n",
       "      <th>forecastsalesdate</th>\n",
       "      <th>isadvancedproduct</th>\n",
       "      <th>activitiesquantity</th>\n",
       "      <th>hasproductswithquotas</th>\n",
       "      <th>agencycommissionpercentage</th>\n",
       "      <th>company_id</th>\n",
       "    </tr>\n",
       "  </thead>\n",
       "  <tbody>\n",
       "    <tr>\n",
       "      <th>0</th>\n",
       "      <td>1320951</td>\n",
       "      <td>1077</td>\n",
       "      <td>23189</td>\n",
       "      <td>17266</td>\n",
       "      <td>6018</td>\n",
       "      <td>914251.0</td>\n",
       "      <td>25546.0</td>\n",
       "      <td>229.0</td>\n",
       "      <td>NaN</td>\n",
       "      <td>1127005.0</td>\n",
       "      <td>...</td>\n",
       "      <td>None</td>\n",
       "      <td>2025-01-10 16:08:06</td>\n",
       "      <td>2469.00</td>\n",
       "      <td>1</td>\n",
       "      <td>None</td>\n",
       "      <td>False</td>\n",
       "      <td>0</td>\n",
       "      <td>False</td>\n",
       "      <td>0</td>\n",
       "      <td>367.0</td>\n",
       "    </tr>\n",
       "    <tr>\n",
       "      <th>1</th>\n",
       "      <td>1320648</td>\n",
       "      <td>1077</td>\n",
       "      <td>23189</td>\n",
       "      <td>24253</td>\n",
       "      <td>6804</td>\n",
       "      <td>916856.0</td>\n",
       "      <td>29826.0</td>\n",
       "      <td>229.0</td>\n",
       "      <td>1134398.0</td>\n",
       "      <td>NaN</td>\n",
       "      <td>...</td>\n",
       "      <td>None</td>\n",
       "      <td>2025-01-13 10:39:39</td>\n",
       "      <td>18000.00</td>\n",
       "      <td>1</td>\n",
       "      <td>None</td>\n",
       "      <td>False</td>\n",
       "      <td>0</td>\n",
       "      <td>False</td>\n",
       "      <td>0</td>\n",
       "      <td>367.0</td>\n",
       "    </tr>\n",
       "    <tr>\n",
       "      <th>2</th>\n",
       "      <td>1320590</td>\n",
       "      <td>1077</td>\n",
       "      <td>22676</td>\n",
       "      <td>22676</td>\n",
       "      <td>6018</td>\n",
       "      <td>1100087.0</td>\n",
       "      <td>NaN</td>\n",
       "      <td>230.0</td>\n",
       "      <td>1100088.0</td>\n",
       "      <td>1137329.0</td>\n",
       "      <td>...</td>\n",
       "      <td>None</td>\n",
       "      <td>2025-01-22 11:56:03</td>\n",
       "      <td>54314.82</td>\n",
       "      <td>2</td>\n",
       "      <td>None</td>\n",
       "      <td>False</td>\n",
       "      <td>0</td>\n",
       "      <td>False</td>\n",
       "      <td>0</td>\n",
       "      <td>367.0</td>\n",
       "    </tr>\n",
       "    <tr>\n",
       "      <th>3</th>\n",
       "      <td>1320521</td>\n",
       "      <td>1077</td>\n",
       "      <td>22933</td>\n",
       "      <td>22933</td>\n",
       "      <td>6018</td>\n",
       "      <td>1135084.0</td>\n",
       "      <td>NaN</td>\n",
       "      <td>229.0</td>\n",
       "      <td>1135088.0</td>\n",
       "      <td>NaN</td>\n",
       "      <td>...</td>\n",
       "      <td>None</td>\n",
       "      <td>2025-02-06 14:36:02</td>\n",
       "      <td>12000.00</td>\n",
       "      <td>1</td>\n",
       "      <td>None</td>\n",
       "      <td>False</td>\n",
       "      <td>0</td>\n",
       "      <td>False</td>\n",
       "      <td>0</td>\n",
       "      <td>367.0</td>\n",
       "    </tr>\n",
       "    <tr>\n",
       "      <th>4</th>\n",
       "      <td>1344529</td>\n",
       "      <td>1077</td>\n",
       "      <td>17295</td>\n",
       "      <td>17295</td>\n",
       "      <td>6805</td>\n",
       "      <td>914447.0</td>\n",
       "      <td>35720.0</td>\n",
       "      <td>229.0</td>\n",
       "      <td>NaN</td>\n",
       "      <td>NaN</td>\n",
       "      <td>...</td>\n",
       "      <td>None</td>\n",
       "      <td>2025-03-31 14:51:12</td>\n",
       "      <td>63861.73</td>\n",
       "      <td>1</td>\n",
       "      <td>None</td>\n",
       "      <td>False</td>\n",
       "      <td>0</td>\n",
       "      <td>False</td>\n",
       "      <td>0</td>\n",
       "      <td>367.0</td>\n",
       "    </tr>\n",
       "  </tbody>\n",
       "</table>\n",
       "<p>5 rows × 35 columns</p>\n",
       "</div>"
      ],
      "text/plain": [
       "   main_id  pipeline_id  creatoruser_id  responsible_id  pipelinestep_id  \\\n",
       "0  1320951         1077           23189           17266             6018   \n",
       "1  1320648         1077           23189           24253             6804   \n",
       "2  1320590         1077           22676           22676             6018   \n",
       "3  1320521         1077           22933           22933             6018   \n",
       "4  1344529         1077           17295           17295             6805   \n",
       "\n",
       "   organization_id  product_id  dealtype_id  person_id  agencies_id  ...  \\\n",
       "0         914251.0     25546.0        229.0        NaN    1127005.0  ...   \n",
       "1         916856.0     29826.0        229.0  1134398.0          NaN  ...   \n",
       "2        1100087.0         NaN        230.0  1100088.0    1137329.0  ...   \n",
       "3        1135084.0         NaN        229.0  1135088.0          NaN  ...   \n",
       "4         914447.0     35720.0        229.0        NaN          NaN  ...   \n",
       "\n",
       "   conversiondate      lastupdatedate negotiatedvalue productquantity  \\\n",
       "0            None 2025-01-10 16:08:06         2469.00               1   \n",
       "1            None 2025-01-13 10:39:39        18000.00               1   \n",
       "2            None 2025-01-22 11:56:03        54314.82               2   \n",
       "3            None 2025-02-06 14:36:02        12000.00               1   \n",
       "4            None 2025-03-31 14:51:12        63861.73               1   \n",
       "\n",
       "  forecastsalesdate  isadvancedproduct  activitiesquantity  \\\n",
       "0              None              False                   0   \n",
       "1              None              False                   0   \n",
       "2              None              False                   0   \n",
       "3              None              False                   0   \n",
       "4              None              False                   0   \n",
       "\n",
       "   hasproductswithquotas agencycommissionpercentage company_id  \n",
       "0                  False                          0      367.0  \n",
       "1                  False                          0      367.0  \n",
       "2                  False                          0      367.0  \n",
       "3                  False                          0      367.0  \n",
       "4                  False                          0      367.0  \n",
       "\n",
       "[5 rows x 35 columns]"
      ]
     },
     "execution_count": 3,
     "metadata": {},
     "output_type": "execute_result"
    }
   ],
   "source": [
    "deals['windate'] = pd.to_datetime(deals['windate'])\n",
    "deals['registerdate'] = pd.to_datetime(deals['registerdate'])\n",
    "\n",
    "deals.head()"
   ]
  },
  {
   "cell_type": "code",
   "execution_count": 4,
   "metadata": {},
   "outputs": [
    {
     "data": {
      "application/vnd.microsoft.datawrangler.viewer.v0+json": {
       "columns": [
        {
         "name": "index",
         "rawType": "int64",
         "type": "integer"
        },
        {
         "name": "main_id",
         "rawType": "int64",
         "type": "integer"
        },
        {
         "name": "pipeline_id",
         "rawType": "int64",
         "type": "integer"
        },
        {
         "name": "creatoruser_id",
         "rawType": "int64",
         "type": "integer"
        },
        {
         "name": "responsible_id",
         "rawType": "int64",
         "type": "integer"
        },
        {
         "name": "pipelinestep_id",
         "rawType": "int64",
         "type": "integer"
        },
        {
         "name": "organization_id",
         "rawType": "float64",
         "type": "float"
        },
        {
         "name": "product_id",
         "rawType": "float64",
         "type": "float"
        },
        {
         "name": "dealtype_id",
         "rawType": "float64",
         "type": "float"
        },
        {
         "name": "person_id",
         "rawType": "float64",
         "type": "float"
        },
        {
         "name": "agencies_id",
         "rawType": "float64",
         "type": "float"
        },
        {
         "name": "iswon",
         "rawType": "bool",
         "type": "boolean"
        },
        {
         "name": "islost",
         "rawType": "bool",
         "type": "boolean"
        },
        {
         "name": "enddate",
         "rawType": "object",
         "type": "unknown"
        },
        {
         "name": "windate",
         "rawType": "datetime64[ns]",
         "type": "datetime"
        },
        {
         "name": "losedate",
         "rawType": "datetime64[ns]",
         "type": "datetime"
        },
        {
         "name": "netvalue",
         "rawType": "float64",
         "type": "float"
        },
        {
         "name": "isdeleted",
         "rawType": "bool",
         "type": "boolean"
        },
        {
         "name": "ispending",
         "rawType": "bool",
         "type": "boolean"
        },
        {
         "name": "startdate",
         "rawType": "object",
         "type": "unknown"
        },
        {
         "name": "shelvedate",
         "rawType": "object",
         "type": "unknown"
        },
        {
         "name": "description",
         "rawType": "object",
         "type": "string"
        },
        {
         "name": "approvaldate",
         "rawType": "object",
         "type": "unknown"
        },
        {
         "name": "registerdate",
         "rawType": "datetime64[ns]",
         "type": "datetime"
        },
        {
         "name": "sequenceorder",
         "rawType": "int64",
         "type": "integer"
        },
        {
         "name": "conclusiondate",
         "rawType": "object",
         "type": "unknown"
        },
        {
         "name": "conversiondate",
         "rawType": "object",
         "type": "unknown"
        },
        {
         "name": "lastupdatedate",
         "rawType": "datetime64[ns]",
         "type": "datetime"
        },
        {
         "name": "negotiatedvalue",
         "rawType": "float64",
         "type": "float"
        },
        {
         "name": "productquantity",
         "rawType": "int64",
         "type": "integer"
        },
        {
         "name": "forecastsalesdate",
         "rawType": "object",
         "type": "unknown"
        },
        {
         "name": "isadvancedproduct",
         "rawType": "bool",
         "type": "boolean"
        },
        {
         "name": "activitiesquantity",
         "rawType": "int64",
         "type": "integer"
        },
        {
         "name": "hasproductswithquotas",
         "rawType": "bool",
         "type": "boolean"
        },
        {
         "name": "agencycommissionpercentage",
         "rawType": "int64",
         "type": "integer"
        },
        {
         "name": "company_id",
         "rawType": "float64",
         "type": "float"
        },
        {
         "name": "time_difference",
         "rawType": "timedelta64[ns]",
         "type": "unknown"
        }
       ],
       "conversionMethod": "pd.DataFrame",
       "ref": "a262074d-9a4a-420d-8ff6-566489f2f3c3",
       "rows": [
        [
         "0",
         "1320951",
         "1077",
         "23189",
         "17266",
         "6018",
         "914251.0",
         "25546.0",
         "229.0",
         null,
         "1127005.0",
         "True",
         "False",
         "2025-01-11",
         "2025-01-10 16:08:06",
         null,
         "2469.0",
         "False",
         "False",
         "2025-01-11",
         null,
         "TOKO FRIOS - BREAK",
         null,
         "2025-01-10 15:01:45",
         "580",
         "2025-01-10",
         null,
         "2025-01-10 16:08:06",
         "2469.0",
         "1",
         null,
         "False",
         "0",
         "False",
         "0",
         "367.0",
         "0 days 01:06:21"
        ],
        [
         "2",
         "1320590",
         "1077",
         "22676",
         "22676",
         "6018",
         "1100087.0",
         null,
         "230.0",
         "1100088.0",
         "1137329.0",
         "True",
         "False",
         "2025-07-30",
         "2025-01-22 11:56:04",
         null,
         "54314.82",
         "False",
         "False",
         "2025-02-06",
         null,
         "",
         null,
         "2025-01-09 15:12:28",
         "568",
         "2025-01-31",
         null,
         "2025-01-22 11:56:03",
         "54314.82",
         "2",
         null,
         "False",
         "0",
         "False",
         "0",
         "367.0",
         "12 days 20:43:36"
        ],
        [
         "3",
         "1320521",
         "1077",
         "22933",
         "22933",
         "6018",
         "1135084.0",
         null,
         "229.0",
         "1135088.0",
         null,
         "True",
         "False",
         "2025-07-31",
         "2025-02-06 14:36:03",
         null,
         "12000.0",
         "False",
         "False",
         "2025-01-15",
         null,
         "Proposta Eletroluz 6 meses - JP PG",
         null,
         "2025-01-09 11:18:09",
         "563",
         "2025-01-21",
         null,
         "2025-02-06 14:36:02",
         "12000.0",
         "1",
         null,
         "False",
         "0",
         "False",
         "0",
         "367.0",
         "28 days 03:17:54"
        ],
        [
         "11",
         "1344463",
         "1077",
         "17265",
         "17295",
         "6018",
         "1112780.0",
         "32108.0",
         "229.0",
         null,
         "1105095.0",
         "True",
         "False",
         "2025-03-16",
         "2025-03-13 10:34:59",
         null,
         "4668.78",
         "False",
         "False",
         "2025-03-13",
         null,
         "",
         null,
         "2025-03-13 09:55:58",
         "1406",
         "2025-03-13",
         null,
         "2025-03-13 10:34:58",
         "5835.97",
         "1",
         null,
         "False",
         "0",
         "False",
         "20",
         "367.0",
         "0 days 00:39:01"
        ],
        [
         "18",
         "1345038",
         "1207",
         "18111",
         "18111",
         "6704",
         "914735.0",
         "34522.0",
         "419.0",
         null,
         null,
         "True",
         "False",
         "2025-03-28",
         "2025-03-28 09:20:45",
         null,
         "29000.0",
         "False",
         "False",
         "2025-03-01",
         null,
         "Farmácia São João - TV PR - Março.25",
         null,
         "2025-03-14 10:48:21",
         "472",
         "2025-03-28",
         null,
         "2025-03-28 09:20:46",
         "29000.0",
         "1",
         null,
         "False",
         "0",
         "False",
         "0",
         null,
         "13 days 22:32:24"
        ]
       ],
       "shape": {
        "columns": 36,
        "rows": 5
       }
      },
      "text/html": [
       "<div>\n",
       "<style scoped>\n",
       "    .dataframe tbody tr th:only-of-type {\n",
       "        vertical-align: middle;\n",
       "    }\n",
       "\n",
       "    .dataframe tbody tr th {\n",
       "        vertical-align: top;\n",
       "    }\n",
       "\n",
       "    .dataframe thead th {\n",
       "        text-align: right;\n",
       "    }\n",
       "</style>\n",
       "<table border=\"1\" class=\"dataframe\">\n",
       "  <thead>\n",
       "    <tr style=\"text-align: right;\">\n",
       "      <th></th>\n",
       "      <th>main_id</th>\n",
       "      <th>pipeline_id</th>\n",
       "      <th>creatoruser_id</th>\n",
       "      <th>responsible_id</th>\n",
       "      <th>pipelinestep_id</th>\n",
       "      <th>organization_id</th>\n",
       "      <th>product_id</th>\n",
       "      <th>dealtype_id</th>\n",
       "      <th>person_id</th>\n",
       "      <th>agencies_id</th>\n",
       "      <th>...</th>\n",
       "      <th>lastupdatedate</th>\n",
       "      <th>negotiatedvalue</th>\n",
       "      <th>productquantity</th>\n",
       "      <th>forecastsalesdate</th>\n",
       "      <th>isadvancedproduct</th>\n",
       "      <th>activitiesquantity</th>\n",
       "      <th>hasproductswithquotas</th>\n",
       "      <th>agencycommissionpercentage</th>\n",
       "      <th>company_id</th>\n",
       "      <th>time_difference</th>\n",
       "    </tr>\n",
       "  </thead>\n",
       "  <tbody>\n",
       "    <tr>\n",
       "      <th>0</th>\n",
       "      <td>1320951</td>\n",
       "      <td>1077</td>\n",
       "      <td>23189</td>\n",
       "      <td>17266</td>\n",
       "      <td>6018</td>\n",
       "      <td>914251.0</td>\n",
       "      <td>25546.0</td>\n",
       "      <td>229.0</td>\n",
       "      <td>NaN</td>\n",
       "      <td>1127005.0</td>\n",
       "      <td>...</td>\n",
       "      <td>2025-01-10 16:08:06</td>\n",
       "      <td>2469.00</td>\n",
       "      <td>1</td>\n",
       "      <td>None</td>\n",
       "      <td>False</td>\n",
       "      <td>0</td>\n",
       "      <td>False</td>\n",
       "      <td>0</td>\n",
       "      <td>367.0</td>\n",
       "      <td>0 days 01:06:21</td>\n",
       "    </tr>\n",
       "    <tr>\n",
       "      <th>2</th>\n",
       "      <td>1320590</td>\n",
       "      <td>1077</td>\n",
       "      <td>22676</td>\n",
       "      <td>22676</td>\n",
       "      <td>6018</td>\n",
       "      <td>1100087.0</td>\n",
       "      <td>NaN</td>\n",
       "      <td>230.0</td>\n",
       "      <td>1100088.0</td>\n",
       "      <td>1137329.0</td>\n",
       "      <td>...</td>\n",
       "      <td>2025-01-22 11:56:03</td>\n",
       "      <td>54314.82</td>\n",
       "      <td>2</td>\n",
       "      <td>None</td>\n",
       "      <td>False</td>\n",
       "      <td>0</td>\n",
       "      <td>False</td>\n",
       "      <td>0</td>\n",
       "      <td>367.0</td>\n",
       "      <td>12 days 20:43:36</td>\n",
       "    </tr>\n",
       "    <tr>\n",
       "      <th>3</th>\n",
       "      <td>1320521</td>\n",
       "      <td>1077</td>\n",
       "      <td>22933</td>\n",
       "      <td>22933</td>\n",
       "      <td>6018</td>\n",
       "      <td>1135084.0</td>\n",
       "      <td>NaN</td>\n",
       "      <td>229.0</td>\n",
       "      <td>1135088.0</td>\n",
       "      <td>NaN</td>\n",
       "      <td>...</td>\n",
       "      <td>2025-02-06 14:36:02</td>\n",
       "      <td>12000.00</td>\n",
       "      <td>1</td>\n",
       "      <td>None</td>\n",
       "      <td>False</td>\n",
       "      <td>0</td>\n",
       "      <td>False</td>\n",
       "      <td>0</td>\n",
       "      <td>367.0</td>\n",
       "      <td>28 days 03:17:54</td>\n",
       "    </tr>\n",
       "    <tr>\n",
       "      <th>11</th>\n",
       "      <td>1344463</td>\n",
       "      <td>1077</td>\n",
       "      <td>17265</td>\n",
       "      <td>17295</td>\n",
       "      <td>6018</td>\n",
       "      <td>1112780.0</td>\n",
       "      <td>32108.0</td>\n",
       "      <td>229.0</td>\n",
       "      <td>NaN</td>\n",
       "      <td>1105095.0</td>\n",
       "      <td>...</td>\n",
       "      <td>2025-03-13 10:34:58</td>\n",
       "      <td>5835.97</td>\n",
       "      <td>1</td>\n",
       "      <td>None</td>\n",
       "      <td>False</td>\n",
       "      <td>0</td>\n",
       "      <td>False</td>\n",
       "      <td>20</td>\n",
       "      <td>367.0</td>\n",
       "      <td>0 days 00:39:01</td>\n",
       "    </tr>\n",
       "    <tr>\n",
       "      <th>18</th>\n",
       "      <td>1345038</td>\n",
       "      <td>1207</td>\n",
       "      <td>18111</td>\n",
       "      <td>18111</td>\n",
       "      <td>6704</td>\n",
       "      <td>914735.0</td>\n",
       "      <td>34522.0</td>\n",
       "      <td>419.0</td>\n",
       "      <td>NaN</td>\n",
       "      <td>NaN</td>\n",
       "      <td>...</td>\n",
       "      <td>2025-03-28 09:20:46</td>\n",
       "      <td>29000.00</td>\n",
       "      <td>1</td>\n",
       "      <td>None</td>\n",
       "      <td>False</td>\n",
       "      <td>0</td>\n",
       "      <td>False</td>\n",
       "      <td>0</td>\n",
       "      <td>NaN</td>\n",
       "      <td>13 days 22:32:24</td>\n",
       "    </tr>\n",
       "  </tbody>\n",
       "</table>\n",
       "<p>5 rows × 36 columns</p>\n",
       "</div>"
      ],
      "text/plain": [
       "    main_id  pipeline_id  creatoruser_id  responsible_id  pipelinestep_id  \\\n",
       "0   1320951         1077           23189           17266             6018   \n",
       "2   1320590         1077           22676           22676             6018   \n",
       "3   1320521         1077           22933           22933             6018   \n",
       "11  1344463         1077           17265           17295             6018   \n",
       "18  1345038         1207           18111           18111             6704   \n",
       "\n",
       "    organization_id  product_id  dealtype_id  person_id  agencies_id  ...  \\\n",
       "0          914251.0     25546.0        229.0        NaN    1127005.0  ...   \n",
       "2         1100087.0         NaN        230.0  1100088.0    1137329.0  ...   \n",
       "3         1135084.0         NaN        229.0  1135088.0          NaN  ...   \n",
       "11        1112780.0     32108.0        229.0        NaN    1105095.0  ...   \n",
       "18         914735.0     34522.0        419.0        NaN          NaN  ...   \n",
       "\n",
       "        lastupdatedate  negotiatedvalue productquantity forecastsalesdate  \\\n",
       "0  2025-01-10 16:08:06          2469.00               1              None   \n",
       "2  2025-01-22 11:56:03         54314.82               2              None   \n",
       "3  2025-02-06 14:36:02         12000.00               1              None   \n",
       "11 2025-03-13 10:34:58          5835.97               1              None   \n",
       "18 2025-03-28 09:20:46         29000.00               1              None   \n",
       "\n",
       "   isadvancedproduct  activitiesquantity  hasproductswithquotas  \\\n",
       "0              False                   0                  False   \n",
       "2              False                   0                  False   \n",
       "3              False                   0                  False   \n",
       "11             False                   0                  False   \n",
       "18             False                   0                  False   \n",
       "\n",
       "    agencycommissionpercentage company_id  time_difference  \n",
       "0                            0      367.0  0 days 01:06:21  \n",
       "2                            0      367.0 12 days 20:43:36  \n",
       "3                            0      367.0 28 days 03:17:54  \n",
       "11                          20      367.0  0 days 00:39:01  \n",
       "18                           0        NaN 13 days 22:32:24  \n",
       "\n",
       "[5 rows x 36 columns]"
      ]
     },
     "execution_count": 4,
     "metadata": {},
     "output_type": "execute_result"
    }
   ],
   "source": [
    "#deals = deals[deals['registerdate'].dt.year == 2025]\n",
    "deals = deals[deals['iswon'] == True]\n",
    "deals = deals.dropna(subset=['windate'])\n",
    "\n",
    "deals['time_difference'] = deals['windate'] - deals['registerdate']\n",
    "\n",
    "average_time_difference = deals['time_difference'].mean()\n",
    "\n",
    "deals.head()"
   ]
  },
  {
   "cell_type": "code",
   "execution_count": 5,
   "metadata": {},
   "outputs": [
    {
     "name": "stdout",
     "output_type": "stream",
     "text": [
      "a média de dias para um negócio ser ganho é: 3 days 20:02:46.377211606\n",
      "a mediana de dias para um negócio ser ganho é: 0 days 16:55:10\n",
      "o desvio padrao de dias para um negócio ser ganho é: 9 days 22:03:49.546261286\n"
     ]
    }
   ],
   "source": [
    "median_time_difference = deals['time_difference'].median()\n",
    "mode_time_difference = deals['time_difference'].mode()\n",
    "dp_time_difference = deals['time_difference'].std()\n",
    "deals['total_horas'] = deals['time_difference'].dt.total_seconds() / 3600\n",
    "#variance_time_difference = np.var(deals['time_difference'])\n",
    "\n",
    "\n",
    "print(f\"a média de dias para um negócio ser ganho é: {average_time_difference}\")\n",
    "print(f\"a mediana de dias para um negócio ser ganho é: {median_time_difference}\")\n",
    "#print(f\"a moda de dias para um negócio ser ganho é: {mode_time_difference}\")\n",
    "print(f\"o desvio padrao de dias para um negócio ser ganho é: {dp_time_difference}\")"
   ]
  },
  {
   "cell_type": "markdown",
   "metadata": {},
   "source": [
    "## Análise Gráfica por Pipeline:"
   ]
  },
  {
   "cell_type": "code",
   "execution_count": 6,
   "metadata": {},
   "outputs": [
    {
     "data": {
      "image/png": "[encoded data removed]",
      "text/plain": [
       "<Figure size 640x480 with 1 Axes>"
      ]
     },
     "metadata": {},
     "output_type": "display_data"
    }
   ],
   "source": [
    "import seaborn as sns\n",
    "import matplotlib.pyplot as plt\n",
    "\n",
    "fig, ax = plt.subplots()\n",
    "\n",
    "deals['pipeline_id'] = deals['pipeline_id'].astype(str)\n",
    "\n",
    "ax.bar(deals['pipeline_id'], deals['total_horas'])\n",
    "\n",
    "plt.show()\n",
    "\n"
   ]
  },
  {
   "cell_type": "markdown",
   "metadata": {},
   "source": [
    "Temos que a unidade de negócio de Londrina (1066) tem o maior tempo em horas para fechar um negócio, para entender o comportamento, iremos performar outras análises, comparando com a unidade de negócio de Curitiba (1077)"
   ]
  },
  {
   "cell_type": "markdown",
   "metadata": {},
   "source": [
    "## Análise Descritiva por Unidade de Negócio:"
   ]
  },
  {
   "cell_type": "code",
   "execution_count": 7,
   "metadata": {},
   "outputs": [
    {
     "data": {
      "text/plain": [
       "PearsonRResult(statistic=nan, pvalue=nan)"
      ]
     },
     "execution_count": 7,
     "metadata": {},
     "output_type": "execute_result"
    }
   ],
   "source": [
    "from scipy import stats\n",
    "\n",
    "stats.pearsonr(deals['negotiatedvalue'], deals['total_horas'])\n",
    "\n",
    "#A correlação entre essas duas variáveis é muito baixa, ou seja, nos indica que o valor de um negócio (ou sua complexidade) não tem correlação com o tempo de fechamento."
   ]
  },
  {
   "cell_type": "code",
   "execution_count": 8,
   "metadata": {},
   "outputs": [],
   "source": [
    "deals_londrina = deals[deals['pipeline_id'] == '1066']\n",
    "deals_curitiba = deals[deals['pipeline_id'] == '1077']\n",
    "\n",
    "#estamos inicializando as váriaveis para performarmos os cálculos de tempo médio, entre outros."
   ]
  },
  {
   "cell_type": "code",
   "execution_count": 9,
   "metadata": {},
   "outputs": [
    {
     "name": "stdout",
     "output_type": "stream",
     "text": [
      "a média de tempo para fechar um negócio em curitiba é de: 3 days 13:34:48.613483146\n",
      "o desvio padrao de tempo para fechar um negócio em curitiba é de: 8 days 16:22:28.399407378\n"
     ]
    }
   ],
   "source": [
    "median_curitiba_time = deals_curitiba['time_difference'].mean()\n",
    "sd_curitiba_time = deals_curitiba['time_difference'].std()\n",
    "\n",
    "print(f\"a média de tempo para fechar um negócio em curitiba é de: {median_curitiba_time}\")\n",
    "print(f\"o desvio padrao de tempo para fechar um negócio em curitiba é de: {sd_curitiba_time}\")"
   ]
  },
  {
   "cell_type": "code",
   "execution_count": 10,
   "metadata": {},
   "outputs": [
    {
     "name": "stdout",
     "output_type": "stream",
     "text": [
      "a média de tempo para fechar um negócio em londrina é de: 4 days 01:14:24.403883495\n",
      "o desvio padrao de tempo para fechar um negócio em londrina é de: 12 days 18:28:15.306839813\n"
     ]
    }
   ],
   "source": [
    "median_londrina_time = deals_londrina['time_difference'].mean()\n",
    "sd_londrina_time = deals_londrina['time_difference'].std()\n",
    "\n",
    "print(f\"a média de tempo para fechar um negócio em londrina é de: {median_londrina_time}\")\n",
    "print(f\"o desvio padrao de tempo para fechar um negócio em londrina é de: {sd_londrina_time}\")"
   ]
  },
  {
   "cell_type": "markdown",
   "metadata": {},
   "source": [
    "ou seja, o comportamento de lançamento de negócios é bem diferente entre as duas unidades de negócio, nos mostrando que existe sim um comportamento que pode ser dito como pior ou melhor no uso do CRM.\n",
    "\n",
    "temos um péssimo comportamento de CRM aqui, ambas as unidades de negócio não refletem a realidade da área de atuação da empresa."
   ]
  },
  {
   "cell_type": "code",
   "execution_count": null,
   "metadata": {},
   "outputs": [
    {
     "data": {
      "image/png": "[encoded data removed]",
      "text/plain": [
       "<Figure size 640x480 with 1 Axes>"
      ]
     },
     "metadata": {},
     "output_type": "display_data"
    }
   ],
   "source": [
    "#aqui, vamos entender como está a distribuição da diferença de tempo, para entendermos como é o comportamento da maioria.\n",
    "\n",
    "deals['responsible_id'].astype(str)\n",
    "\n",
    "sns.histplot(deals['total_horas'], kde=True, bins=30)\n",
    "plt.title('Distribution of Time Differences')\n",
    "plt.xlabel('Time Difference (hours)')\n",
    "plt.ylabel('Frequency')\n",
    "plt.show()"
   ]
  },
  {
   "cell_type": "markdown",
   "metadata": {},
   "source": [
    "No gráfico acima, podemos ver que a maioria dos negócios levam menos que uma hora para serem fechados, ou seja, o comportamento padrão do vendedor é de inserir o negócio que já está fechado, sem apresentar uma verdadeira jornada de sua venda."
   ]
  },
  {
   "cell_type": "code",
   "execution_count": 12,
   "metadata": {},
   "outputs": [
    {
     "name": "stderr",
     "output_type": "stream",
     "text": [
      "C:\\Users\\guilherme.oliveira\\AppData\\Local\\Temp\\ipykernel_14772\\1918983504.py:1: SettingWithCopyWarning: \n",
      "A value is trying to be set on a copy of a slice from a DataFrame.\n",
      "Try using .loc[row_indexer,col_indexer] = value instead\n",
      "\n",
      "See the caveats in the documentation: https://pandas.pydata.org/pandas-docs/stable/user_guide/indexing.html#returning-a-view-versus-a-copy\n",
      "  deals_curitiba['responsible_id'] = deals_curitiba['responsible_id'].astype(str)\n"
     ]
    },
    {
     "data": {
      "image/png": "[encoded data removed]",
      "text/plain": [
       "<Figure size 640x480 with 1 Axes>"
      ]
     },
     "metadata": {},
     "output_type": "display_data"
    }
   ],
   "source": [
    "deals_curitiba['responsible_id'] = deals_curitiba['responsible_id'].astype(str)\n",
    "\n",
    "sns.boxplot(x='pipeline_id', y='total_horas', data=deals)\n",
    "plt.title('Time Differences by Pipeline')\n",
    "plt.xlabel('Sales Pipeline')\n",
    "plt.ylabel('Time Difference (hours)')\n",
    "plt.xticks(rotation=90)\n",
    "plt.show()"
   ]
  },
  {
   "cell_type": "markdown",
   "metadata": {},
   "source": [
    "O box-plot acima nos mostra que a distribuição por pipeline está muito parecida, o que infelizmente implica que o problema é de toda a empresa e não de uma unidade de negócio única. Os círculos representam os outliers, como podemos ver, o comportamento (correto) é um outlier."
   ]
  },
  {
   "cell_type": "code",
   "execution_count": 13,
   "metadata": {},
   "outputs": [
    {
     "data": {
      "image/png": "[encoded data removed]",
      "text/plain": [
       "<Figure size 640x480 with 1 Axes>"
      ]
     },
     "metadata": {},
     "output_type": "display_data"
    }
   ],
   "source": [
    "deals['day_inserted'] = deals['registerdate'].dt.dayofweek\n",
    "\n",
    "sns.scatterplot(x='day_inserted', y='total_horas', data=deals)\n",
    "plt.title('Total de horas decorridas vs Dia da semana')\n",
    "plt.xlabel('dias da semana')\n",
    "plt.ylabel('Total de horas decorridas')\n",
    "plt.show()"
   ]
  },
  {
   "cell_type": "markdown",
   "metadata": {},
   "source": [
    "esse gráfico foi uma tentativa para identificar se o comportament varia por dia da semana, podemos ver que negócios criados na sexta feira levam muito menos tempo a serem fechados, comprovando o ponto de que negócios inseridos na ferramenta não apresentam uma jornada de venda."
   ]
  },
  {
   "cell_type": "markdown",
   "metadata": {},
   "source": [
    "## Outliers:"
   ]
  },
  {
   "cell_type": "code",
   "execution_count": 14,
   "metadata": {},
   "outputs": [
    {
     "name": "stdout",
     "output_type": "stream",
     "text": [
      "Outliers:\n",
      "       main_id pipeline_id  creatoruser_id  responsible_id  pipelinestep_id  \\\n",
      "2     1320590        1077           22676           22676             6018   \n",
      "3     1320521        1077           22933           22933             6018   \n",
      "18    1345038        1207           18111           18111             6704   \n",
      "65    1346473        1065           19736           19736             5949   \n",
      "111   1351055        1077           23189           17263             6018   \n",
      "...       ...         ...             ...             ...              ...   \n",
      "8767  1339552        1077           23545           23545             6018   \n",
      "8781  1337691        1066           25118           25118             5953   \n",
      "8839  1343576        1066           18119           18119             5953   \n",
      "8867  1343586        1066           18119           18119             5953   \n",
      "8913  1348032        1066           18119           18119             5953   \n",
      "\n",
      "      organization_id  product_id  dealtype_id  person_id  agencies_id  ...  \\\n",
      "2           1100087.0         NaN        230.0  1100088.0    1137329.0  ...   \n",
      "3           1135084.0         NaN        229.0  1135088.0          NaN  ...   \n",
      "18           914735.0     34522.0        419.0        NaN          NaN  ...   \n",
      "65           914336.0     36653.0        372.0        NaN          NaN  ...   \n",
      "111          913335.0     34760.0        229.0        NaN          NaN  ...   \n",
      "...               ...         ...          ...        ...          ...  ...   \n",
      "8767        1148430.0     25546.0        229.0  1148434.0          NaN  ...   \n",
      "8781        1147401.0     34757.0        366.0        NaN          NaN  ...   \n",
      "8839        1164370.0     25546.0        366.0        NaN          NaN  ...   \n",
      "8867        1099816.0     25546.0        366.0        NaN          NaN  ...   \n",
      "8913         914629.0     25546.0        366.0        NaN    1148822.0  ...   \n",
      "\n",
      "      productquantity  forecastsalesdate isadvancedproduct activitiesquantity  \\\n",
      "2                   2               None             False                  0   \n",
      "3                   1               None             False                  0   \n",
      "18                  1               None             False                  0   \n",
      "65                  1               None             False                  0   \n",
      "111                 1               None             False                  0   \n",
      "...               ...                ...               ...                ...   \n",
      "8767                1               None             False                  0   \n",
      "8781                1               None             False                  0   \n",
      "8839                1               None             False                  0   \n",
      "8867                1               None             False                  0   \n",
      "8913                1               None             False                  0   \n",
      "\n",
      "     hasproductswithquotas  agencycommissionpercentage  company_id  \\\n",
      "2                    False                           0       367.0   \n",
      "3                    False                           0       367.0   \n",
      "18                   False                           0         NaN   \n",
      "65                   False                           0         NaN   \n",
      "111                  False                           0         NaN   \n",
      "...                    ...                         ...         ...   \n",
      "8767                 False                           0       367.0   \n",
      "8781                 False                           0       781.0   \n",
      "8839                 False                           0       781.0   \n",
      "8867                 False                           0       781.0   \n",
      "8913                 False                          20         NaN   \n",
      "\n",
      "      time_difference total_horas day_inserted  \n",
      "2    12 days 20:43:36  308.726667            3  \n",
      "3    28 days 03:17:54  675.298333            3  \n",
      "18   13 days 22:32:24  334.540000            4  \n",
      "65    9 days 16:39:17  232.654722            1  \n",
      "111  10 days 06:01:32  246.025556            4  \n",
      "...               ...         ...          ...  \n",
      "8767 22 days 03:20:57  531.349167            3  \n",
      "8781 11 days 20:12:18  284.205000            4  \n",
      "8839 17 days 00:53:03  408.884167            1  \n",
      "8867 20 days 01:18:24  481.306667            1  \n",
      "8913 10 days 21:01:49  261.030278            4  \n",
      "\n",
      "[368 rows x 38 columns]\n"
     ]
    }
   ],
   "source": [
    "Q1 = deals['total_horas'].quantile(0.25)\n",
    "Q3 = deals['total_horas'].quantile(0.75)\n",
    "IQR = Q3 - Q1\n",
    "\n",
    "outliers = deals[(deals['total_horas'] < (Q1 - 1.5 * IQR)) | (deals['total_horas'] > (Q3 + 1.5 * IQR))]\n",
    "print(\"Outliers:\\n\", outliers)"
   ]
  },
  {
   "cell_type": "markdown",
   "metadata": {},
   "source": [
    "Um dataframe contendo todos os outliers no ano de 2025, infelizmente, são os mais próximos de nossa realidade atual de venda. O que deveria de ser o contrário."
   ]
  },
  {
   "cell_type": "markdown",
   "metadata": {},
   "source": [
    "# Decision Tree em um ambiente de negócios:"
   ]
  },
  {
   "cell_type": "code",
   "execution_count": null,
   "metadata": {},
   "outputs": [],
   "source": [
    "#Carrega algumas bases de dados como dataframes para as análises futuras.\n",
    "\n",
    "dues = pd.read_sql_query(\"SELECT * FROM dues\", engine)\n",
    "users = pd.read_sql_query(\"SELECT * FROM users\", engine)\n",
    "logs = pd.read_sql_query(\"SELECT * FROM historico\", engine)\n",
    "sales = pd.read_sql_query(\"SELECT * FROM sales\", engine)\n",
    "pipelinestep = pd.read_sql_query(\"SELECT * FROM pipelinestep\", engine)"
   ]
  },
  {
   "cell_type": "code",
   "execution_count": null,
   "metadata": {},
   "outputs": [],
   "source": [
    "#Inicializa um dataframe vazio, onde iremos armazenar nossas features para treinamento e teste do modelo\n",
    "\n",
    "df = pd.DataFrame()"
   ]
  },
  {
   "cell_type": "markdown",
   "metadata": {},
   "source": [
    "## Feature Engineering:"
   ]
  },
  {
   "cell_type": "code",
   "execution_count": null,
   "metadata": {},
   "outputs": [
    {
     "name": "stderr",
     "output_type": "stream",
     "text": [
      "C:\\Users\\guilherme.oliveira\\AppData\\Local\\Temp\\ipykernel_14772\\1566927258.py:2: SettingWithCopyWarning: \n",
      "A value is trying to be set on a copy of a slice from a DataFrame.\n",
      "Try using .loc[row_indexer,col_indexer] = value instead\n",
      "\n",
      "See the caveats in the documentation: https://pandas.pydata.org/pandas-docs/stable/user_guide/indexing.html#returning-a-view-versus-a-copy\n",
      "  temp_logs['enterdate'] = pd.to_datetime(temp_logs['enterdate'])\n"
     ]
    }
   ],
   "source": [
    "temp_logs = logs[logs['pipelinestep_id'].isin([6814, 6805, 6811, 6807, 6862, 6826, 6863, 6808, 6827, 6812, 6563, 6562, 6809, 6815, 6290, 6142, 6864, 6295, 6289, 6703])] #Etapas fora de fechados.\n",
    "temp_logs['enterdate'] = pd.to_datetime(temp_logs['enterdate'])\n",
    "temp_logs_lm = temp_logs[temp_logs['enterdate'].dt.month == 3] #Mês de Março\n",
    "temp_dues = dues[dues['main_id'].isin(temp_logs['main_id'])]\n",
    "temp_dues = temp_dues.groupby(['user_id', 'channel_id'],dropna=False, as_index=False)['netvalue'].sum()\n",
    "\n",
    "df['user_id'] = temp_dues['user_id'] # Aqui temos o ID do usuário, para caso a análise seja necessária de utilizar essa feature.\n",
    "df['channel_id'] = temp_dues['channel_id'] # ID do veículo de venda\n",
    "df['proposal_volume_lm'] = temp_dues['netvalue'] # Volume de propostas em dinheiro, ou seja, quanto os vendedores estavam com negócios circulando."
   ]
  },
  {
   "cell_type": "code",
   "execution_count": null,
   "metadata": {},
   "outputs": [
    {
     "name": "stderr",
     "output_type": "stream",
     "text": [
      "C:\\Users\\guilherme.oliveira\\AppData\\Local\\Temp\\ipykernel_14772\\1628055372.py:2: SettingWithCopyWarning: \n",
      "A value is trying to be set on a copy of a slice from a DataFrame.\n",
      "Try using .loc[row_indexer,col_indexer] = value instead\n",
      "\n",
      "See the caveats in the documentation: https://pandas.pydata.org/pandas-docs/stable/user_guide/indexing.html#returning-a-view-versus-a-copy\n",
      "  temp_dues['duedate'] = pd.to_datetime(temp_dues['duedate'])\n"
     ]
    }
   ],
   "source": [
    "temp_dues = dues[dues['main_id'].isin(deals['main_id'])] #Aqui, estamos filtrando apenas os negócios fechados.\n",
    "temp_dues['duedate'] = pd.to_datetime(temp_dues['duedate'])\n",
    "temp_dues = temp_dues[temp_dues['duedate'].dt.month == 3] #No mês de Março\n",
    "temp_dues = temp_dues.groupby(['user_id', 'channel_id'],dropna=False, as_index=False)['netvalue'].sum()\n",
    "\n",
    "#Adicionamos aqui uma coluna contendo o faturamento do mês vigente. Para compararmos com o que foi basquetado.\n",
    "df['revenue_lm'] = df.merge(temp_dues[['netvalue', 'channel_id', 'user_id']], how='left', on=['channel_id', 'user_id'])['netvalue'] "
   ]
  },
  {
   "cell_type": "code",
   "execution_count": null,
   "metadata": {},
   "outputs": [],
   "source": [
    "df['convertion_rate_lm'] = df['revenue_lm'] / df['proposal_volume_lm'] #Taxa de conversão"
   ]
  },
  {
   "cell_type": "code",
   "execution_count": null,
   "metadata": {},
   "outputs": [
    {
     "name": "stderr",
     "output_type": "stream",
     "text": [
      "C:\\Users\\guilherme.oliveira\\AppData\\Local\\Temp\\ipykernel_14772\\2499945483.py:2: SettingWithCopyWarning: \n",
      "A value is trying to be set on a copy of a slice from a DataFrame.\n",
      "Try using .loc[row_indexer,col_indexer] = value instead\n",
      "\n",
      "See the caveats in the documentation: https://pandas.pydata.org/pandas-docs/stable/user_guide/indexing.html#returning-a-view-versus-a-copy\n",
      "  temp_dues['duedate'] = pd.to_datetime(temp_dues['duedate'])\n"
     ]
    }
   ],
   "source": [
    "# Mesmo trabalho de filtros, agora, estamos olhando ao faturamento do mês atual.\n",
    "\n",
    "temp_dues = dues[dues['main_id'].isin(deals['main_id'])]\n",
    "temp_dues['duedate'] = pd.to_datetime(temp_dues['duedate'])\n",
    "temp_dues = temp_dues[temp_dues['duedate'].dt.month == 4]\n",
    "temp_dues = temp_dues.groupby(['user_id', 'channel_id'],dropna=False, as_index=False)['netvalue'].sum()\n",
    "\n",
    "df['revenue_cm'] = df.merge(temp_dues[['netvalue', 'channel_id', 'user_id']], how='left', on=['channel_id', 'user_id'])['netvalue']"
   ]
  },
  {
   "cell_type": "code",
   "execution_count": null,
   "metadata": {},
   "outputs": [
    {
     "name": "stderr",
     "output_type": "stream",
     "text": [
      "C:\\Users\\guilherme.oliveira\\AppData\\Local\\Temp\\ipykernel_14772\\845393367.py:2: SettingWithCopyWarning: \n",
      "A value is trying to be set on a copy of a slice from a DataFrame.\n",
      "Try using .loc[row_indexer,col_indexer] = value instead\n",
      "\n",
      "See the caveats in the documentation: https://pandas.pydata.org/pandas-docs/stable/user_guide/indexing.html#returning-a-view-versus-a-copy\n",
      "  temp_logs['enterdate'] = pd.to_datetime(temp_logs['enterdate'])\n"
     ]
    }
   ],
   "source": [
    "# Mesmo trabalho de filtros, agora, estamos olhando ao volume de propostas do mês atual.\n",
    "\n",
    "temp_logs = logs[logs['pipelinestep_id'].isin([6814, 6805, 6811, 6807, 6862, 6826, 6863, 6808, 6827, 6812, 6563, 6562, 6809, 6815, 6290, 6142, 6864, 6295, 6289, 6703])]\n",
    "temp_logs['enterdate'] = pd.to_datetime(temp_logs['enterdate'])\n",
    "temp_logs_lm = temp_logs[temp_logs['enterdate'].dt.month == 4]\n",
    "temp_dues = dues[dues['main_id'].isin(temp_logs['main_id'])]\n",
    "temp_dues = temp_dues.groupby(['user_id', 'channel_id'],dropna=False, as_index=False)['netvalue'].sum()\n",
    "\n",
    "df['proposal_volume_cm'] = df.merge(temp_dues[['netvalue', 'channel_id', 'user_id']], how='left', on=['channel_id', 'user_id'])['netvalue']"
   ]
  },
  {
   "cell_type": "code",
   "execution_count": null,
   "metadata": {},
   "outputs": [],
   "source": [
    "df['convertion_rate_cm'] = df['revenue_cm'] / df['proposal_volume_cm'] #Taxa de conversão."
   ]
  },
  {
   "cell_type": "code",
   "execution_count": null,
   "metadata": {},
   "outputs": [],
   "source": [
    "sales['mes_ano'] = pd.to_datetime(sales['mes_ano'])\n",
    "temp_sales = sales[sales['mes_ano'].dt.month == 3]\n",
    "temp_sales = temp_sales.groupby(['user_id', 'channel_id'], dropna=False, as_index=False)['meta'].sum()\n",
    "\n",
    "df['goal_lm'] = df.merge(temp_sales[['meta', 'channel_id', 'user_id']], how='left', on=['channel_id', 'user_id'])['meta'] #Meta de Vendas do mês anterior."
   ]
  },
  {
   "cell_type": "code",
   "execution_count": null,
   "metadata": {},
   "outputs": [],
   "source": [
    "sales['mes_ano'] = pd.to_datetime(sales['mes_ano'])\n",
    "temp_sales = sales[sales['mes_ano'].dt.month == 4]\n",
    "temp_sales = temp_sales.groupby(['user_id', 'channel_id'], dropna=False, as_index=False)['meta'].sum()\n",
    "\n",
    "df['goal_cm'] = df.merge(temp_sales[['meta', 'channel_id', 'user_id']], how='left', on=['channel_id', 'user_id'])['meta'] #Meta de Vendas do mês atual."
   ]
  },
  {
   "cell_type": "code",
   "execution_count": null,
   "metadata": {},
   "outputs": [],
   "source": [
    "#Para definir se o usuário naquele veículo de vendas teve sua meta batida.\n",
    "\n",
    "df['goal_met_cm'] = np.where(\n",
    "    (df['goal_cm'].notna()) & (df['revenue_cm'].notna()),\n",
    "    np.where(df['goal_cm'] >= df['revenue_cm'], 1, 0),\n",
    "    0  # or a default value (e.g., 0)\n",
    ")"
   ]
  },
  {
   "cell_type": "code",
   "execution_count": null,
   "metadata": {},
   "outputs": [],
   "source": [
    "#Para definir se o usuário naquele veículo de vendas teve sua meta batida.\n",
    "\n",
    "df['goal_met_lm'] = np.where(\n",
    "    (df['goal_lm'].notna()) & (df['revenue_lm'].notna()),\n",
    "    np.where(df['goal_lm'] >= df['revenue_lm'], 1, 0),\n",
    "    0  # or a default value (e.g., 0)\n",
    ")"
   ]
  },
  {
   "cell_type": "code",
   "execution_count": null,
   "metadata": {},
   "outputs": [
    {
     "name": "stderr",
     "output_type": "stream",
     "text": [
      "C:\\Users\\guilherme.oliveira\\AppData\\Local\\Temp\\ipykernel_14772\\1129525859.py:1: FutureWarning: A value is trying to be set on a copy of a DataFrame or Series through chained assignment using an inplace method.\n",
      "The behavior will change in pandas 3.0. This inplace method will never work because the intermediate object on which we are setting values always behaves as a copy.\n",
      "\n",
      "For example, when doing 'df[col].method(value, inplace=True)', try using 'df.method({col: value}, inplace=True)' or df[col] = df[col].method(value) instead, to perform the operation inplace on the original object.\n",
      "\n",
      "\n",
      "  df[\"revenue_cm\"].fillna(0, inplace=True)\n",
      "C:\\Users\\guilherme.oliveira\\AppData\\Local\\Temp\\ipykernel_14772\\1129525859.py:2: FutureWarning: A value is trying to be set on a copy of a DataFrame or Series through chained assignment using an inplace method.\n",
      "The behavior will change in pandas 3.0. This inplace method will never work because the intermediate object on which we are setting values always behaves as a copy.\n",
      "\n",
      "For example, when doing 'df[col].method(value, inplace=True)', try using 'df.method({col: value}, inplace=True)' or df[col] = df[col].method(value) instead, to perform the operation inplace on the original object.\n",
      "\n",
      "\n",
      "  df[\"revenue_lm\"].fillna(0, inplace=True)\n",
      "C:\\Users\\guilherme.oliveira\\AppData\\Local\\Temp\\ipykernel_14772\\1129525859.py:3: FutureWarning: A value is trying to be set on a copy of a DataFrame or Series through chained assignment using an inplace method.\n",
      "The behavior will change in pandas 3.0. This inplace method will never work because the intermediate object on which we are setting values always behaves as a copy.\n",
      "\n",
      "For example, when doing 'df[col].method(value, inplace=True)', try using 'df.method({col: value}, inplace=True)' or df[col] = df[col].method(value) instead, to perform the operation inplace on the original object.\n",
      "\n",
      "\n",
      "  df[\"convertion_rate_cm\"].fillna(0, inplace=True)\n",
      "C:\\Users\\guilherme.oliveira\\AppData\\Local\\Temp\\ipykernel_14772\\1129525859.py:4: FutureWarning: A value is trying to be set on a copy of a DataFrame or Series through chained assignment using an inplace method.\n",
      "The behavior will change in pandas 3.0. This inplace method will never work because the intermediate object on which we are setting values always behaves as a copy.\n",
      "\n",
      "For example, when doing 'df[col].method(value, inplace=True)', try using 'df.method({col: value}, inplace=True)' or df[col] = df[col].method(value) instead, to perform the operation inplace on the original object.\n",
      "\n",
      "\n",
      "  df[\"convertion_rate_lm\"].fillna(0, inplace=True)\n",
      "C:\\Users\\guilherme.oliveira\\AppData\\Local\\Temp\\ipykernel_14772\\1129525859.py:5: FutureWarning: A value is trying to be set on a copy of a DataFrame or Series through chained assignment using an inplace method.\n",
      "The behavior will change in pandas 3.0. This inplace method will never work because the intermediate object on which we are setting values always behaves as a copy.\n",
      "\n",
      "For example, when doing 'df[col].method(value, inplace=True)', try using 'df.method({col: value}, inplace=True)' or df[col] = df[col].method(value) instead, to perform the operation inplace on the original object.\n",
      "\n",
      "\n",
      "  df[\"goal_lm\"].fillna(0, inplace=True)\n",
      "C:\\Users\\guilherme.oliveira\\AppData\\Local\\Temp\\ipykernel_14772\\1129525859.py:6: FutureWarning: A value is trying to be set on a copy of a DataFrame or Series through chained assignment using an inplace method.\n",
      "The behavior will change in pandas 3.0. This inplace method will never work because the intermediate object on which we are setting values always behaves as a copy.\n",
      "\n",
      "For example, when doing 'df[col].method(value, inplace=True)', try using 'df.method({col: value}, inplace=True)' or df[col] = df[col].method(value) instead, to perform the operation inplace on the original object.\n",
      "\n",
      "\n",
      "  df[\"goal_cm\"].fillna(0, inplace=True)\n"
     ]
    }
   ],
   "source": [
    "#Por decisão de negócios e funcionamento do nosso processo de coleta de dados, foi decidido substituir os valores por zero, o recomendado em alguns casos é trabalhar com mediana e outros.\n",
    "\n",
    "df[\"revenue_cm\"].fillna(0, inplace=True)  \n",
    "df[\"revenue_lm\"].fillna(0, inplace=True)  \n",
    "df[\"convertion_rate_cm\"].fillna(0, inplace=True)  \n",
    "df[\"convertion_rate_lm\"].fillna(0, inplace=True)  \n",
    "df[\"goal_lm\"].fillna(0, inplace=True)  \n",
    "df[\"goal_cm\"].fillna(0, inplace=True)"
   ]
  },
  {
   "cell_type": "code",
   "execution_count": null,
   "metadata": {},
   "outputs": [],
   "source": [
    "from sklearn.preprocessing import OrdinalEncoder\n",
    "\n",
    "enc = OrdinalEncoder() #O encoder, serve para categorizar variáveis que se repetem, tornando elas um pouco mais fáceis de se lidar no modelo.\n",
    "\n",
    "df['channel_id'] = enc.fit_transform(df[['channel_id']]) #Categorizando ID de veículo.\n",
    "\n",
    "df['user_id'] = enc.fit_transform(df[['user_id']]) #Categorizando ID de usuário."
   ]
  },
  {
   "cell_type": "markdown",
   "metadata": {},
   "source": [
    "## Preparação do Modelo:"
   ]
  },
  {
   "cell_type": "code",
   "execution_count": null,
   "metadata": {},
   "outputs": [],
   "source": [
    "from sklearn.model_selection import train_test_split\n",
    "\n",
    "features = [\"revenue_lm\", \"convertion_rate_lm\", \"goal_met_lm\", \"proposal_volume_lm\"] #Após alguns testes e outras validações, foi decidido que seria seguido com essas features.\n",
    "target = \"convertion_rate_cm\" # O que iremos pedir ao modelo decidir, é a taxa de conversão do mês atual, baseado nas features do mês anterior.\n",
    "\n",
    "X_train, X_test, y_train, y_test = train_test_split(\n",
    "    df[features], df[target], test_size=0.3, random_state=42\n",
    ") #Split de treino e teste, necessário para garantir um modelo saudável e confiável."
   ]
  },
  {
   "cell_type": "markdown",
   "metadata": {},
   "source": [
    "## Declaração do Modelo e teste de R²:"
   ]
  },
  {
   "cell_type": "code",
   "execution_count": null,
   "metadata": {},
   "outputs": [
    {
     "name": "stdout",
     "output_type": "stream",
     "text": [
      "R² score: 0.5443470278315925\n"
     ]
    }
   ],
   "source": [
    "model = DecisionTreeRegressor(max_depth=4) #Foi selecionado a Árvore de Decisão de Regressão, modelo preditivo.\n",
    "model.fit(X_train, y_train) #Treino do modelo.\n",
    "\n",
    "score = model.score(X_test, y_test) #Teste do modelo.\n",
    "print(\"R² score:\", score)"
   ]
  },
  {
   "cell_type": "markdown",
   "metadata": {},
   "source": [
    "Como podemos ver, o R² desse modelo é relativamente baixo, no entanto, não apresenta um overfitting."
   ]
  },
  {
   "cell_type": "markdown",
   "metadata": {},
   "source": [
    "## Representação Gráfica e em Texto do modelo:"
   ]
  },
  {
   "cell_type": "code",
   "execution_count": 71,
   "metadata": {},
   "outputs": [
    {
     "data": {
      "image/png": "[encoded data removed]",
      "text/plain": [
       "<Figure size 2000x1000 with 1 Axes>"
      ]
     },
     "metadata": {},
     "output_type": "display_data"
    }
   ],
   "source": [
    "from sklearn.tree import plot_tree\n",
    "\n",
    "plt.figure(figsize=(20, 10))\n",
    "plot_tree(\n",
    "    model, \n",
    "    feature_names=X_train.columns,  # feature names\n",
    "    filled=True,                    # Color nodes by class/values\n",
    "    rounded=True,                   # Rounded node borders\n",
    "    max_depth=5,                    # Limit depth for readability\n",
    "    fontsize=10\n",
    ")\n",
    "plt.title(\"Decision Tree Structure\", fontsize=16)\n",
    "plt.show()"
   ]
  },
  {
   "cell_type": "markdown",
   "metadata": {},
   "source": [
    "O modelo apresentado no gráfico acima nos apresenta um avanço eficiente na qualidade das decisões a serem tomadas no futuro pelos stake holders, ainda existem muitas coisas a serem desenvolvidas e trabalhadas.\n",
    "\n",
    "O modelo está dependendo muito do volume de propostas, o que pode nos indicar que as outras variáveis não tenham tanta importância assim. No entanto, as decisões ao olhadas juntos do meu gestor, são realistas, agora falta entendermos a aplicabilidade e como podemos melhorar."
   ]
  },
  {
   "cell_type": "code",
   "execution_count": 72,
   "metadata": {},
   "outputs": [
    {
     "name": "stdout",
     "output_type": "stream",
     "text": [
      "              Feature  Importance\n",
      "1  convertion_rate_lm    0.626413\n",
      "0          revenue_lm    0.230365\n",
      "3  proposal_volume_lm    0.143222\n",
      "2         goal_met_lm    0.000000\n"
     ]
    }
   ],
   "source": [
    "importance = pd.DataFrame({\n",
    "    \"Feature\": X_train.columns,\n",
    "    \"Importance\": model.feature_importances_\n",
    "}).sort_values(\"Importance\", ascending=False)\n",
    "\n",
    "print(importance)"
   ]
  },
  {
   "cell_type": "markdown",
   "metadata": {},
   "source": [
    "Mostra o quanto o modelo depende de cada feature, convertion_rate_lm tem uma taxa de importância alta, por isso foi a primeira varíavel a ser selecionada. O volume de proposta ser de baixa importância mas ter um uso repetido pela árvore de decisão me preocupa um pouco."
   ]
  },
  {
   "cell_type": "code",
   "execution_count": null,
   "metadata": {},
   "outputs": [
    {
     "name": "stdout",
     "output_type": "stream",
     "text": [
      "|--- proposal_volume_lm <= 2180977.44\n",
      "|   |--- proposal_volume_lm <= 423288.81\n",
      "|   |   |--- proposal_volume_lm <= 129175.56\n",
      "|   |   |   |--- proposal_volume_lm <= 50503.76\n",
      "|   |   |   |   |--- value: [15223.62]\n",
      "|   |   |   |--- proposal_volume_lm >  50503.76\n",
      "|   |   |   |   |--- value: [86965.23]\n",
      "|   |   |--- proposal_volume_lm >  129175.56\n",
      "|   |   |   |--- proposal_volume_lm <= 222057.32\n",
      "|   |   |   |   |--- value: [164916.68]\n",
      "|   |   |   |--- proposal_volume_lm >  222057.32\n",
      "|   |   |   |   |--- value: [289105.65]\n",
      "|   |--- proposal_volume_lm >  423288.81\n",
      "|   |   |--- proposal_volume_lm <= 955525.38\n",
      "|   |   |   |--- proposal_volume_lm <= 664869.25\n",
      "|   |   |   |   |--- value: [551378.06]\n",
      "|   |   |   |--- proposal_volume_lm >  664869.25\n",
      "|   |   |   |   |--- value: [821531.44]\n",
      "|   |   |--- proposal_volume_lm >  955525.38\n",
      "|   |   |   |--- value: [1313976.60]\n",
      "|--- proposal_volume_lm >  2180977.44\n",
      "|   |--- value: [5027248.58]\n",
      "\n"
     ]
    }
   ],
   "source": [
    "from sklearn.tree import export_text\n",
    "\n",
    "tree_rules = export_text(\n",
    "    model, \n",
    "    feature_names=list(X_train.columns),   \n",
    "    max_depth=3                          \n",
    ")\n",
    "print(tree_rules)"
   ]
  },
  {
   "cell_type": "markdown",
   "metadata": {},
   "source": [
    "Descritivo das regras do modelo em texto, nos ajuda a entender mais do cenário atual."
   ]
  }
 ],
 "metadata": {
  "kernelspec": {
   "display_name": "Python 3",
   "language": "python",
   "name": "python3"
  },
  "language_info": {
   "codemirror_mode": {
    "name": "ipython",
    "version": 3
   },
   "file_extension": ".py",
   "mimetype": "text/x-python",
   "name": "python",
   "nbconvert_exporter": "python",
   "pygments_lexer": "ipython3",
   "version": "3.11.5"
  }
 },
 "nbformat": 4,
 "nbformat_minor": 2
}
